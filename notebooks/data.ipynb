{
 "cells": [
  {
   "cell_type": "code",
   "execution_count": null,
   "id": "a1043184",
   "metadata": {},
   "outputs": [
    {
     "name": "stdout",
     "output_type": "stream",
     "text": [
      "\n",
      "Processing Benign...\n",
      "Benign: 504 → augmenting to 800\n"
     ]
    },
    {
     "name": "stderr",
     "output_type": "stream",
     "text": [
      "100%|██████████| 504/504 [00:02<00:00, 218.44it/s]\n",
      "100%|██████████| 296/296 [00:01<00:00, 158.06it/s]\n"
     ]
    },
    {
     "name": "stdout",
     "output_type": "stream",
     "text": [
      "\n",
      "Processing Early...\n",
      "Early: 985 → downsampling to 800\n"
     ]
    },
    {
     "name": "stderr",
     "output_type": "stream",
     "text": [
      "100%|██████████| 800/800 [00:03<00:00, 265.48it/s]\n"
     ]
    },
    {
     "name": "stdout",
     "output_type": "stream",
     "text": [
      "\n",
      "Processing Pre...\n",
      "Pre: 963 → downsampling to 800\n"
     ]
    },
    {
     "name": "stderr",
     "output_type": "stream",
     "text": [
      "100%|██████████| 800/800 [00:03<00:00, 265.06it/s]\n"
     ]
    },
    {
     "name": "stdout",
     "output_type": "stream",
     "text": [
      "\n",
      "Processing Pro...\n",
      "Pro: 804 → downsampling to 800\n"
     ]
    },
    {
     "name": "stderr",
     "output_type": "stream",
     "text": [
      "100%|██████████| 800/800 [00:03<00:00, 266.15it/s]"
     ]
    },
    {
     "name": "stdout",
     "output_type": "stream",
     "text": [
      "\n",
      "✅ Balanced dataset created in: C:\\Users\\94718\\OneDrive\\Desktop\\NIBM\\AI\\CourseWork\\code\\try2\\Augmented\n"
     ]
    },
    {
     "name": "stderr",
     "output_type": "stream",
     "text": [
      "\n"
     ]
    }
   ],
   "source": [
    "import os\n",
    "import random\n",
    "from PIL import Image\n",
    "from torchvision import transforms\n",
    "from tqdm import tqdm\n",
    "import shutil\n",
    "\n",
    "# Paths\n",
    "dataset_path = r\"C:\\Users\\94718\\OneDrive\\Desktop\\NIBM\\AI\\CourseWork\\code\\try2\\Original\"\n",
    "augmented_path = r\"C:\\Users\\94718\\OneDrive\\Desktop\\NIBM\\AI\\CourseWork\\code\\try2\\Augmented\"\n",
    "os.makedirs(augmented_path, exist_ok=True)\n",
    "\n",
    "# Classes\n",
    "classes = ['Benign', 'Early', 'Pre', 'Pro']\n",
    "\n",
    "# Target count per class\n",
    "target_count = 800\n",
    "\n",
    "# Augmentation pipeline (used only for upsampling Benign)\n",
    "augmentation = transforms.Compose([\n",
    "    transforms.RandomRotation(degrees=15),\n",
    "    transforms.RandomHorizontalFlip(),\n",
    "    transforms.RandomVerticalFlip(),\n",
    "    transforms.ColorJitter(brightness=0.2, contrast=0.2),\n",
    "    transforms.Resize((224,224))\n",
    "])\n",
    "\n",
    "# Create output folder structure\n",
    "for cls in classes:\n",
    "    os.makedirs(os.path.join(augmented_path, cls), exist_ok=True)\n",
    "\n",
    "# Process each class\n",
    "for cls in classes:\n",
    "    print(f\"\\nProcessing {cls}...\")\n",
    "    cls_path = os.path.join(dataset_path, cls)\n",
    "    save_cls_path = os.path.join(augmented_path, cls)\n",
    "    files = os.listdir(cls_path)\n",
    "    current_count = len(files)\n",
    "\n",
    "    if current_count < target_count:\n",
    "        # Upsample with augmentation\n",
    "        print(f\"{cls}: {current_count} → augmenting to {target_count}\")\n",
    "        for img_file in tqdm(files):\n",
    "            img = Image.open(os.path.join(cls_path, img_file)).convert(\"RGB\")\n",
    "            img = img.resize((224,224))\n",
    "            img.save(os.path.join(save_cls_path, img_file))  # save original\n",
    "\n",
    "        augment_needed = target_count - current_count\n",
    "        for i in tqdm(range(augment_needed)):\n",
    "            img_file = files[i % current_count]\n",
    "            img = Image.open(os.path.join(cls_path, img_file)).convert(\"RGB\")\n",
    "            img_aug = augmentation(img)\n",
    "            save_name = f\"{cls.lower()}_aug_{i+1}.jpg\"\n",
    "            img_aug.save(os.path.join(save_cls_path, save_name))\n",
    "\n",
    "    elif current_count > target_count:\n",
    "        # Downsample (randomly pick target_count files)\n",
    "        print(f\"{cls}: {current_count} → downsampling to {target_count}\")\n",
    "        selected_files = random.sample(files, target_count)\n",
    "        for img_file in tqdm(selected_files):\n",
    "            img = Image.open(os.path.join(cls_path, img_file)).convert(\"RGB\")\n",
    "            img = img.resize((224,224))\n",
    "            img.save(os.path.join(save_cls_path, img_file))\n",
    "\n",
    "    else:\n",
    "        # Exactly target_count → just resize & copy\n",
    "        print(f\"{cls}: already {target_count}, just resizing\")\n",
    "        for img_file in tqdm(files):\n",
    "            img = Image.open(os.path.join(cls_path, img_file)).convert(\"RGB\")\n",
    "            img = img.resize((224,224))\n",
    "            img.save(os.path.join(save_cls_path, img_file))\n",
    "\n",
    "\n"
   ]
  },
  {
   "cell_type": "code",
   "execution_count": 6,
   "id": "e74ae2bd",
   "metadata": {},
   "outputs": [
    {
     "name": "stdout",
     "output_type": "stream",
     "text": [
      "Resizing Benign...\n"
     ]
    },
    {
     "name": "stderr",
     "output_type": "stream",
     "text": [
      "100%|██████████| 800/800 [00:11<00:00, 72.69it/s]\n"
     ]
    },
    {
     "name": "stdout",
     "output_type": "stream",
     "text": [
      "Resizing Early...\n"
     ]
    },
    {
     "name": "stderr",
     "output_type": "stream",
     "text": [
      "100%|██████████| 800/800 [00:11<00:00, 70.99it/s]\n"
     ]
    },
    {
     "name": "stdout",
     "output_type": "stream",
     "text": [
      "Resizing Pre...\n"
     ]
    },
    {
     "name": "stderr",
     "output_type": "stream",
     "text": [
      "100%|██████████| 800/800 [00:10<00:00, 74.24it/s]\n"
     ]
    },
    {
     "name": "stdout",
     "output_type": "stream",
     "text": [
      "Resizing Pro...\n"
     ]
    },
    {
     "name": "stderr",
     "output_type": "stream",
     "text": [
      "100%|██████████| 800/800 [00:11<00:00, 72.53it/s]"
     ]
    },
    {
     "name": "stdout",
     "output_type": "stream",
     "text": [
      " All images resized to 224x224 and saved\n"
     ]
    },
    {
     "name": "stderr",
     "output_type": "stream",
     "text": [
      "\n"
     ]
    }
   ],
   "source": [
    "\n",
    "# Paths\n",
    "dataset_path = r\"C:\\Users\\94718\\OneDrive\\Desktop\\NIBM\\AI\\CourseWork\\code\\try2\\Augmented\"\n",
    "resized_path = r\"C:\\Users\\94718\\OneDrive\\Desktop\\NIBM\\AI\\CourseWork\\code\\try2\\Preprocessed\"\n",
    "os.makedirs(resized_path, exist_ok=True)\n",
    "\n",
    "# Classes\n",
    "classes = ['Benign', 'Early', 'Pre', 'Pro']\n",
    "\n",
    "# Create output folders\n",
    "for cls in classes:\n",
    "    os.makedirs(os.path.join(resized_path, cls), exist_ok=True)\n",
    "\n",
    "# Resize all images\n",
    "for cls in classes:\n",
    "    print(f\"Resizing {cls}...\")\n",
    "    cls_path = os.path.join(dataset_path, cls)\n",
    "    save_cls_path = os.path.join(resized_path, cls)\n",
    "    for img_file in tqdm(os.listdir(cls_path)):\n",
    "        img = Image.open(os.path.join(cls_path, img_file)).convert(\"RGB\")\n",
    "        img = img.resize((224,224))\n",
    "        img.save(os.path.join(save_cls_path, img_file))\n",
    "\n",
    "print(\" All images resized to 224x224 and saved\")\n"
   ]
  }
 ],
 "metadata": {
  "kernelspec": {
   "display_name": "ann_venv",
   "language": "python",
   "name": "python3"
  },
  "language_info": {
   "codemirror_mode": {
    "name": "ipython",
    "version": 3
   },
   "file_extension": ".py",
   "mimetype": "text/x-python",
   "name": "python",
   "nbconvert_exporter": "python",
   "pygments_lexer": "ipython3",
   "version": "3.12.4"
  }
 },
 "nbformat": 4,
 "nbformat_minor": 5
}
