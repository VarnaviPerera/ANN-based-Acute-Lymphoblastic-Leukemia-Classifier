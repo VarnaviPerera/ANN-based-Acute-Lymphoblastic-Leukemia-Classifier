{
 "cells": [
  {
   "cell_type": "code",
   "execution_count": null,
   "id": "67f1e2a9",
   "metadata": {},
   "outputs": [
    {
     "name": "stderr",
     "output_type": "stream",
     "text": [
      "c:\\Users\\94718\\Downloads\\CW\\ANN-based-Acute-Lymphoblastic-Leukemia-Classifier\\ann_venv\\Lib\\site-packages\\torchvision\\models\\_utils.py:208: UserWarning: The parameter 'pretrained' is deprecated since 0.13 and may be removed in the future, please use 'weights' instead.\n",
      "  warnings.warn(\n",
      "c:\\Users\\94718\\Downloads\\CW\\ANN-based-Acute-Lymphoblastic-Leukemia-Classifier\\ann_venv\\Lib\\site-packages\\torchvision\\models\\_utils.py:223: UserWarning: Arguments other than a weight enum or `None` for 'weights' are deprecated since 0.13 and may be removed in the future. The current behavior is equivalent to passing `weights=ResNet18_Weights.IMAGENET1K_V1`. You can also use `weights=ResNet18_Weights.DEFAULT` to get the most up-to-date weights.\n",
      "  warnings.warn(msg)\n"
     ]
    },
    {
     "name": "stdout",
     "output_type": "stream",
     "text": [
      "Downloading: \"https://download.pytorch.org/models/resnet18-f37072fd.pth\" to C:\\Users\\94718/.cache\\torch\\hub\\checkpoints\\resnet18-f37072fd.pth\n"
     ]
    },
    {
     "name": "stderr",
     "output_type": "stream",
     "text": [
      "100%|██████████| 44.7M/44.7M [00:02<00:00, 23.1MB/s]\n"
     ]
    },
    {
     "name": "stdout",
     "output_type": "stream",
     "text": [
      "Epoch [1/10] Loss: 1.0146 Acc: 66.52%\n",
      "Epoch [2/10] Loss: 0.5370 Acc: 88.28%\n",
      "Epoch [3/10] Loss: 0.3460 Acc: 92.66%\n",
      "Epoch [4/10] Loss: 0.2592 Acc: 94.57%\n",
      "Epoch [5/10] Loss: 0.2060 Acc: 95.31%\n",
      "Epoch [6/10] Loss: 0.1699 Acc: 95.86%\n",
      "Epoch [7/10] Loss: 0.1511 Acc: 96.29%\n",
      "Epoch [8/10] Loss: 0.1424 Acc: 96.25%\n",
      "Epoch [9/10] Loss: 0.1272 Acc: 96.84%\n",
      "Epoch [10/10] Loss: 0.1017 Acc: 97.73%\n",
      "Test Accuracy: 99.06%\n"
     ]
    }
   ],
   "source": [
    "import torch\n",
    "import torch.nn as nn\n",
    "import torch.optim as optim\n",
    "from torchvision import datasets, transforms, models\n",
    "from torch.utils.data import DataLoader, random_split\n",
    "import matplotlib.pyplot as plt\n",
    "\n",
    "# -------------------\n",
    "# 1. Setup\n",
    "# -------------------\n",
    "device = torch.device(\"cuda\" if torch.cuda.is_available() else \"cpu\")\n",
    "data_dir = r\"C:\\Users\\94718\\OneDrive\\Desktop\\NIBM\\AI\\CourseWork\\code\\try2\\Preprocessed\"    # Local path\n",
    "batch_size = 32          # Increased batch size for better gradient estimates\n",
    "num_classes = 4\n",
    "epochs = 10              # More epochs for sufficient training\n",
    "learning_rate = 1e-4     # Lower LR for stable convergence\n",
    "weight_decay = 1e-4      # Regularization\n",
    "\n",
    "# -------------------\n",
    "# 2. Data Transforms\n",
    "# -------------------\n",
    "transform = transforms.Compose([\n",
    "    transforms.Resize((224, 224)),\n",
    "    transforms.ToTensor(),\n",
    "    transforms.Normalize([0.485, 0.456, 0.406],\n",
    "                         [0.229, 0.224, 0.225])\n",
    "])\n",
    "\n",
    "dataset = datasets.ImageFolder(root=data_dir, transform=transform)\n",
    "\n",
    "train_size = int(0.8 * len(dataset))\n",
    "test_size = len(dataset) - train_size\n",
    "train_dataset, test_dataset = random_split(dataset, [train_size, test_size])\n",
    "\n",
    "train_loader = DataLoader(train_dataset, batch_size=batch_size, shuffle=True)\n",
    "test_loader = DataLoader(test_dataset, batch_size=batch_size, shuffle=False)\n",
    "\n",
    "#pretrained resnet model\n",
    "model = models.resnet18(pretrained=True)\n",
    "\n",
    "# Freeze base layers to retain pretrained features\n",
    "for param in model.parameters():\n",
    "    param.requires_grad = False\n",
    "\n",
    "# Custom classifier for our dataset\n",
    "model.fc = nn.Sequential(\n",
    "    nn.Linear(model.fc.in_features, 256),\n",
    "    nn.ReLU(),\n",
    "    nn.Dropout(0.5),\n",
    "    nn.Linear(256, num_classes)\n",
    ")\n",
    "\n",
    "model = model.to(device)\n",
    "\n",
    "#loss optimizer with Adam\n",
    "criterion = nn.CrossEntropyLoss()\n",
    "optimizer = optim.Adam(model.fc.parameters(), lr=learning_rate, weight_decay=weight_decay)\n",
    "\n",
    "# -------------------\n",
    "# 5. Training Loop\n",
    "# -------------------\n",
    "for epoch in range(epochs):\n",
    "    model.train()\n",
    "    running_loss, correct, total = 0.0, 0, 0\n",
    "    for images, labels in train_loader:\n",
    "        images, labels = images.to(device), labels.to(device)\n",
    "\n",
    "        optimizer.zero_grad()\n",
    "        outputs = model(images)\n",
    "        loss = criterion(outputs, labels)\n",
    "        loss.backward()\n",
    "        optimizer.step()\n",
    "\n",
    "        running_loss += loss.item()\n",
    "        _, predicted = torch.max(outputs, 1)\n",
    "        correct += (predicted == labels).sum().item()\n",
    "        total += labels.size(0)\n",
    "\n",
    "    print(f\"Epoch [{epoch+1}/{epochs}] Loss: {running_loss/len(train_loader):.4f} \"\n",
    "          f\"Acc: {100*correct/total:.2f}%\")\n",
    "\n",
    "#eval\n",
    "model.eval()\n",
    "correct, total = 0, 0\n",
    "with torch.no_grad():\n",
    "    for images, labels in test_loader:\n",
    "        images, labels = images.to(device), labels.to(device)\n",
    "        outputs = model(images)\n",
    "        _, predicted = torch.max(outputs, 1)\n",
    "        correct += (predicted == labels).sum().item()\n",
    "        total += labels.size(0)\n",
    "\n",
    "print(f\"Test Accuracy: {100*correct/total:.2f}%\")\n",
    "\n",
    "#model save\n",
    "torch.save(model.state_dict(), \"resnet18_cancer_model.pth\")\n",
    "\n",
    "#predicts\n",
    "classes = dataset.classes\n",
    "\n",
    "def show_predictions():\n",
    "    model.eval()\n",
    "    images, labels = next(iter(test_loader))\n",
    "\n",
    "    outputs = model(images.to(device))\n",
    "    _, preds = torch.max(outputs, 1)\n",
    "\n",
    "    mean = torch.tensor([0.485, 0.456, 0.406]).view(3, 1, 1)\n",
    "    std = torch.tensor([0.229, 0.224, 0.225]).view(3, 1, 1)\n",
    "\n",
    "    plt.figure(figsize=(12, 6))\n",
    "    num_imgs = min(6, images.size(0))\n",
    "    for i in range(num_imgs):\n",
    "        img = images[i].cpu() * std + mean   # Unnormalize\n",
    "        img = img.clamp(0, 1)\n",
    "        plt.subplot(2, 3, i+1)\n",
    "        plt.imshow(img.permute(1, 2, 0))\n",
    "        plt.title(f\"Pred: {classes[preds[i]]}\\nTrue: {classes[labels[i]]}\")\n",
    "        plt.axis(\"off\")\n",
    "        \n",
    "    plt.show()\n"
   ]
  },
  {
   "cell_type": "code",
   "execution_count": 2,
   "id": "3f325881",
   "metadata": {},
   "outputs": [
    {
     "name": "stdout",
     "output_type": "stream",
     "text": [
      "Test Accuracy: 99.06%\n"
     ]
    },
    {
     "data": {
      "text/plain": [
       "<Figure size 800x600 with 0 Axes>"
      ]
     },
     "metadata": {},
     "output_type": "display_data"
    },
    {
     "data": {
      "image/png": "[encoded data removed]",
      "text/plain": [
       "<Figure size 640x480 with 2 Axes>"
      ]
     },
     "metadata": {},
     "output_type": "display_data"
    }
   ],
   "source": [
    "from sklearn.metrics import confusion_matrix, ConfusionMatrixDisplay\n",
    "import numpy as np\n",
    "\n",
    "# -------------------\n",
    "# 6. Evaluation + Confusion Matrix\n",
    "# -------------------\n",
    "model.eval()\n",
    "all_preds = []\n",
    "all_labels = []\n",
    "\n",
    "with torch.no_grad():\n",
    "    for images, labels in test_loader:\n",
    "        images, labels = images.to(device), labels.to(device)\n",
    "        outputs = model(images)\n",
    "        _, predicted = torch.max(outputs, 1)\n",
    "\n",
    "        all_preds.extend(predicted.cpu().numpy())\n",
    "        all_labels.extend(labels.cpu().numpy())\n",
    "\n",
    "# Compute accuracy\n",
    "acc = np.mean(np.array(all_preds) == np.array(all_labels))\n",
    "print(f\"Test Accuracy: {100*acc:.2f}%\")\n",
    "\n",
    "# Confusion matrix\n",
    "cm = confusion_matrix(all_labels, all_preds)\n",
    "disp = ConfusionMatrixDisplay(confusion_matrix=cm, display_labels=classes)\n",
    "\n",
    "plt.figure(figsize=(8, 6))\n",
    "disp.plot(cmap=plt.cm.Blues, values_format=\"d\")\n",
    "plt.title(\"Confusion Matrix\")\n",
    "plt.show()\n"
   ]
  }
 ],
 "metadata": {
  "kernelspec": {
   "display_name": "ann_venv",
   "language": "python",
   "name": "python3"
  },
  "language_info": {
   "codemirror_mode": {
    "name": "ipython",
    "version": 3
   },
   "file_extension": ".py",
   "mimetype": "text/x-python",
   "name": "python",
   "nbconvert_exporter": "python",
   "pygments_lexer": "ipython3",
   "version": "3.12.4"
  }
 },
 "nbformat": 4,
 "nbformat_minor": 5
}
